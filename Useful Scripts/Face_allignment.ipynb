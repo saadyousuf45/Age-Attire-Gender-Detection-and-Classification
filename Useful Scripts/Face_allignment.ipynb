{
 "cells": [
  {
   "cell_type": "code",
   "execution_count": 57,
   "metadata": {},
   "outputs": [],
   "source": [
    "# import the necessary packages\n",
    "from imutils import face_utils\n",
    "import numpy as np\n",
    "import argparse\n",
    "import imutils\n",
    "import dlib\n",
    "import cv2\n",
    "#from helpers import FACIAL_LANDMARKS_IDXS\n",
    "#from helpers import shape_to_np\n",
    "import numpy as np\n",
    "import cv2\n",
    "from matplotlib import pyplot as plt \n",
    "\n",
    "\n",
    "from imutils.face_utils import FaceAligner\n",
    "from imutils.face_utils import rect_to_bb\n",
    "import argparse\n",
    "import imutils\n",
    "import dlib\n",
    "import cv2\n",
    "import os\n"
   ]
  },
  {
   "cell_type": "code",
   "execution_count": 7,
   "metadata": {},
   "outputs": [],
   "source": [
    "from IPython.core.debugger import set_trace\n",
    "debug_mode = True #switch this to True if you want debugging back on\n",
    "if not debug_mode:\n",
    "  def pass_func():\n",
    "    pass\n",
    "  set_trace = pass_func"
   ]
  },
  {
   "cell_type": "code",
   "execution_count": 64,
   "metadata": {
    "scrolled": false
   },
   "outputs": [
    {
     "name": "stdout",
     "output_type": "stream",
     "text": [
      "('The Number of faces are=', 13)\n",
      "('The rects are', rectangles[])\n"
     ]
    },
    {
     "ename": "RuntimeError",
     "evalue": "Unable to cast Python instance to C++ type (compile in debug mode for details)",
     "output_type": "error",
     "traceback": [
      "\u001b[0;31m---------------------------------------------------------------------------\u001b[0m",
      "\u001b[0;31mRuntimeError\u001b[0m                              Traceback (most recent call last)",
      "\u001b[0;32m<ipython-input-64-b0b5d3ecbe87>\u001b[0m in \u001b[0;36m<module>\u001b[0;34m()\u001b[0m\n\u001b[1;32m     67\u001b[0m         \u001b[0mfaceOrig\u001b[0m \u001b[0;34m=\u001b[0m \u001b[0mimutils\u001b[0m\u001b[0;34m.\u001b[0m\u001b[0mresize\u001b[0m\u001b[0;34m(\u001b[0m\u001b[0mimg\u001b[0m\u001b[0;34m[\u001b[0m\u001b[0myw1\u001b[0m\u001b[0;34m:\u001b[0m\u001b[0myw1\u001b[0m \u001b[0;34m+\u001b[0m \u001b[0mh\u001b[0m\u001b[0;34m,\u001b[0m \u001b[0mxw1\u001b[0m\u001b[0;34m:\u001b[0m\u001b[0mxw1\u001b[0m \u001b[0;34m+\u001b[0m \u001b[0mw\u001b[0m\u001b[0;34m]\u001b[0m\u001b[0;34m,\u001b[0m \u001b[0mwidth\u001b[0m\u001b[0;34m=\u001b[0m\u001b[0;36m256\u001b[0m\u001b[0;34m)\u001b[0m\u001b[0;34m\u001b[0m\u001b[0m\n\u001b[1;32m     68\u001b[0m \u001b[0;34m\u001b[0m\u001b[0m\n\u001b[0;32m---> 69\u001b[0;31m         \u001b[0mfaceAligned\u001b[0m \u001b[0;34m=\u001b[0m \u001b[0mfa\u001b[0m\u001b[0;34m.\u001b[0m\u001b[0malign\u001b[0m\u001b[0;34m(\u001b[0m\u001b[0mimg\u001b[0m\u001b[0;34m,\u001b[0m \u001b[0mgray\u001b[0m\u001b[0;34m,\u001b[0m \u001b[0mrect\u001b[0m\u001b[0;34m)\u001b[0m\u001b[0;34m\u001b[0m\u001b[0m\n\u001b[0m\u001b[1;32m     70\u001b[0m \u001b[0;34m\u001b[0m\u001b[0m\n\u001b[1;32m     71\u001b[0m         \u001b[0mpath\u001b[0m \u001b[0;34m=\u001b[0m \u001b[0;34m'/home/saadi/Learningfolder/croped images/'\u001b[0m\u001b[0;34m\u001b[0m\u001b[0m\n",
      "\u001b[0;32m/home/saadi/.virtualenvs/keras-latest/local/lib/python2.7/site-packages/imutils/face_utils/facealigner.pyc\u001b[0m in \u001b[0;36malign\u001b[0;34m(self, image, gray, rect)\u001b[0m\n\u001b[1;32m     22\u001b[0m         \u001b[0;32mdef\u001b[0m \u001b[0malign\u001b[0m\u001b[0;34m(\u001b[0m\u001b[0mself\u001b[0m\u001b[0;34m,\u001b[0m \u001b[0mimage\u001b[0m\u001b[0;34m,\u001b[0m \u001b[0mgray\u001b[0m\u001b[0;34m,\u001b[0m \u001b[0mrect\u001b[0m\u001b[0;34m)\u001b[0m\u001b[0;34m:\u001b[0m\u001b[0;34m\u001b[0m\u001b[0m\n\u001b[1;32m     23\u001b[0m                 \u001b[0;31m# convert the landmark (x, y)-coordinates to a NumPy array\u001b[0m\u001b[0;34m\u001b[0m\u001b[0;34m\u001b[0m\u001b[0m\n\u001b[0;32m---> 24\u001b[0;31m                 \u001b[0mshape\u001b[0m \u001b[0;34m=\u001b[0m \u001b[0mself\u001b[0m\u001b[0;34m.\u001b[0m\u001b[0mpredictor\u001b[0m\u001b[0;34m(\u001b[0m\u001b[0mgray\u001b[0m\u001b[0;34m,\u001b[0m \u001b[0mrect\u001b[0m\u001b[0;34m)\u001b[0m\u001b[0;34m\u001b[0m\u001b[0m\n\u001b[0m\u001b[1;32m     25\u001b[0m                 \u001b[0mshape\u001b[0m \u001b[0;34m=\u001b[0m \u001b[0mshape_to_np\u001b[0m\u001b[0;34m(\u001b[0m\u001b[0mshape\u001b[0m\u001b[0;34m)\u001b[0m\u001b[0;34m\u001b[0m\u001b[0m\n\u001b[1;32m     26\u001b[0m \u001b[0;34m\u001b[0m\u001b[0m\n",
      "\u001b[0;31mRuntimeError\u001b[0m: Unable to cast Python instance to C++ type (compile in debug mode for details)"
     ]
    }
   ],
   "source": [
    "\n",
    "img_size = 64\n",
    "input_img = '/home/saadi/Desktop/test_xml _write/images/0.jpg'\n",
    "txt = '/home/saadi/Desktop/test_xml _write/textfile_faceloactions/0.txt'\n",
    "\n",
    "img = cv2.imread(input_img)\n",
    "#img = cv2.cvtColor(img, cv2.COLOR_BGR2RGB)\n",
    "img_h, img_w, _ = np.shape(img)\n",
    "\n",
    "#img = cv2.resize(img, (1024, int(1024*img_h/img_w)))\n",
    "img_h, img_w, _ = np.shape(img)\n",
    "gray = cv2.cvtColor(img, cv2.COLOR_BGR2GRAY)\n",
    "f= open(txt, 'r')\n",
    "counter = 0    #  for reading detected faces only\n",
    "locations=[]\n",
    "r = 0 # this is for faces[r, :, :, :] = cv2.resize(img[yw1:yw2 + 0, xw1:xw2 + 0, :]\n",
    "detector = dlib.get_frontal_face_detector()\n",
    "predictor = dlib.shape_predictor(\"/home/saadi/Learningfolder/face-alignment/shape_predictor_68_face_landmarks.dat\")\n",
    "fa = FaceAligner(predictor, desiredFaceWidth=256)\n",
    "\n",
    "\n",
    "\n",
    "face_num = 0\n",
    "for line in f :  # line is a string\n",
    "    if counter == 0:\n",
    "        firstline_faces=list(map(int,line.split()))\n",
    "        Number_face_detected=(firstline_faces[0])\n",
    "        print('The Number of faces are=',firstline_faces[0])\n",
    "        faces_detected= firstline_faces[0]\n",
    "        counter = counter +1\n",
    "    else :\n",
    "        face_coordinates=list(map(int,line.split()))\n",
    "        #print(face_coordinates)\n",
    "\n",
    "        x1 = face_coordinates[0]\n",
    "        y1 = face_coordinates[1]\n",
    "        x2 = face_coordinates[2]\n",
    "        y2 = face_coordinates[3]\n",
    "        \n",
    "        \n",
    "\n",
    "        w = x2 - x1\n",
    "        h = y2 - y1\n",
    "\n",
    "        i = 0.4\n",
    "\n",
    "        xw1 = max(int(x1 - i * w), 0)\n",
    "        yw1 = max(int(y1 - i * h), 0)\n",
    "        xw2 = min(int(x2 + i * w), img_w - 1)\n",
    "        yw2 = min(int(y2 + i * h), img_h - 1)\n",
    "\n",
    "\n",
    "        locations.append([xw1, yw1])\n",
    "\n",
    "        #print(locations[0][1]) # this makes a list to print predictions\n",
    "\n",
    "\n",
    "        faces = np.empty((1, img_size, img_size, 3))\n",
    "\n",
    "        #cv2.rectangle(img, (x1, y1), (x2, y2), (255, 0, 0), 2)\n",
    "        #cv2.rectangle(img, (xw1, yw1), (xw2, yw2), (255, 0, 0), 2)\n",
    "\n",
    "        img_small = cv2.resize(img[yw1:yw2 + 0, xw1:xw2 + 0, :], (img_size, img_size))\n",
    "        gray_small = cv2.cvtColor(img_small, cv2.COLOR_BGR2GRAY)\n",
    "        rects = detector(gray_small, 2)\n",
    "        print('The rects are', rects)\n",
    "        faceOrig = imutils.resize(img[yw1:yw1 + h, xw1:xw1 + w], width=256)\n",
    "        \n",
    "        faceAligned = fa.align(img, gray, rect)\n",
    "\n",
    "        path = '/home/saadi/Learningfolder/croped images/'\n",
    "        \n",
    "        face_number = str(face_num)+'.jpg'\n",
    "        \n",
    "        print (face_number)\n",
    "\n",
    "        cv2.imwrite(os.path.join(path , face_number), img_small)\n",
    "\n",
    "        face_num = face_num + 1\n",
    "\n",
    "        faces[0, :, :, :] = cv2.resize(img[yw1:yw2 + 0, xw1:xw2 + 0, :], (img_size, img_size))\n",
    "\n",
    "        #faces[0, :, :, :] = cv2.resize(img[y1:y2 + 0, x1:x2 + 0, :], (img_size, img_size))\n",
    "        cv2.imshow(\"Original\", faceOrig)\n",
    "        cv2.imshow(\"Aligned\", faceAligned)\n",
    "        cv2.waitKey(0)\n"
   ]
  },
  {
   "cell_type": "code",
   "execution_count": 55,
   "metadata": {},
   "outputs": [
    {
     "ename": "TypeError",
     "evalue": "'tuple' object is not callable",
     "output_type": "error",
     "traceback": [
      "\u001b[0;31m---------------------------------------------------------------------------\u001b[0m",
      "\u001b[0;31mTypeError\u001b[0m                                 Traceback (most recent call last)",
      "\u001b[0;32m<ipython-input-55-01fe615834c2>\u001b[0m in \u001b[0;36m<module>\u001b[0;34m()\u001b[0m\n\u001b[1;32m      4\u001b[0m \u001b[0myw2\u001b[0m \u001b[0;34m=\u001b[0m \u001b[0;36m4\u001b[0m\u001b[0;34m\u001b[0m\u001b[0m\n\u001b[1;32m      5\u001b[0m \u001b[0;34m\u001b[0m\u001b[0m\n\u001b[0;32m----> 6\u001b[0;31m \u001b[0;32mclass\u001b[0m \u001b[0mdlib\u001b[0m\u001b[0;34m:\u001b[0m\u001b[0;34m\u001b[0m\u001b[0m\n\u001b[0m\u001b[1;32m      7\u001b[0m     \u001b[0mrectangles\u001b[0m \u001b[0;34m=\u001b[0m \u001b[0mstr\u001b[0m\u001b[0;34m(\u001b[0m\u001b[0;34m[\u001b[0m\u001b[0;34m(\u001b[0m\u001b[0mxw1\u001b[0m\u001b[0;34m,\u001b[0m \u001b[0myw1\u001b[0m\u001b[0;34m)\u001b[0m \u001b[0;34m(\u001b[0m\u001b[0mxw2\u001b[0m\u001b[0;34m,\u001b[0m \u001b[0myw2\u001b[0m\u001b[0;34m)\u001b[0m\u001b[0;34m]\u001b[0m\u001b[0;34m)\u001b[0m\u001b[0;34m\u001b[0m\u001b[0m\n\u001b[1;32m      8\u001b[0m \u001b[0;34m\u001b[0m\u001b[0m\n",
      "\u001b[0;32m<ipython-input-55-01fe615834c2>\u001b[0m in \u001b[0;36mdlib\u001b[0;34m()\u001b[0m\n\u001b[1;32m      5\u001b[0m \u001b[0;34m\u001b[0m\u001b[0m\n\u001b[1;32m      6\u001b[0m \u001b[0;32mclass\u001b[0m \u001b[0mdlib\u001b[0m\u001b[0;34m:\u001b[0m\u001b[0;34m\u001b[0m\u001b[0m\n\u001b[0;32m----> 7\u001b[0;31m     \u001b[0mrectangles\u001b[0m \u001b[0;34m=\u001b[0m \u001b[0mstr\u001b[0m\u001b[0;34m(\u001b[0m\u001b[0;34m[\u001b[0m\u001b[0;34m(\u001b[0m\u001b[0mxw1\u001b[0m\u001b[0;34m,\u001b[0m \u001b[0myw1\u001b[0m\u001b[0;34m)\u001b[0m \u001b[0;34m(\u001b[0m\u001b[0mxw2\u001b[0m\u001b[0;34m,\u001b[0m \u001b[0myw2\u001b[0m\u001b[0;34m)\u001b[0m\u001b[0;34m]\u001b[0m\u001b[0;34m)\u001b[0m\u001b[0;34m\u001b[0m\u001b[0m\n\u001b[0m\u001b[1;32m      8\u001b[0m \u001b[0;34m\u001b[0m\u001b[0m\n\u001b[1;32m      9\u001b[0m \u001b[0;34m\u001b[0m\u001b[0m\n",
      "\u001b[0;31mTypeError\u001b[0m: 'tuple' object is not callable"
     ]
    }
   ],
   "source": [
    "xw1 = 1\n",
    "yw1 = 2\n",
    "xw2 = 3\n",
    "yw2 = 4\n",
    "\n"
   ]
  },
  {
   "cell_type": "code",
   "execution_count": null,
   "metadata": {},
   "outputs": [],
   "source": [
    "print"
   ]
  }
 ],
 "metadata": {
  "kernelspec": {
   "display_name": "Python 2",
   "language": "python",
   "name": "python2"
  },
  "language_info": {
   "codemirror_mode": {
    "name": "ipython",
    "version": 2
   },
   "file_extension": ".py",
   "mimetype": "text/x-python",
   "name": "python",
   "nbconvert_exporter": "python",
   "pygments_lexer": "ipython2",
   "version": "2.7.12"
  }
 },
 "nbformat": 4,
 "nbformat_minor": 2
}
