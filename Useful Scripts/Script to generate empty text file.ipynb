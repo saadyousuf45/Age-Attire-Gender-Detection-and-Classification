{
 "cells": [
  {
   "cell_type": "code",
   "execution_count": null,
   "metadata": {},
   "outputs": [],
   "source": [
    "## Script to generate empty text files \n",
    "# this will create  empty txt files corresponding to the image files in home/saadi/mAP2/images\n",
    "\n",
    "import os\n",
    "for f in os.listdir('/home/saadi/mAP2/images'):\n",
    "    if f.endswith('.jpg'):\n",
    "        file_path = os.path.join('/home/saadi/mAP2/predicted',f.replace('.jpg', '.txt'))\n",
    "        with open(file_path, \"w+\"):\n",
    "            pass"
   ]
  }
 ],
 "metadata": {
  "kernelspec": {
   "display_name": "Python 3",
   "language": "python",
   "name": "python3"
  },
  "language_info": {
   "codemirror_mode": {
    "name": "ipython",
    "version": 3
   },
   "file_extension": ".py",
   "mimetype": "text/x-python",
   "name": "python",
   "nbconvert_exporter": "python",
   "pygments_lexer": "ipython3",
   "version": "3.5.2"
  }
 },
 "nbformat": 4,
 "nbformat_minor": 2
}
