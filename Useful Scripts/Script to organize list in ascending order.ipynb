{
 "cells": [
  {
   "cell_type": "code",
   "execution_count": null,
   "metadata": {},
   "outputs": [],
   "source": [
    "#script to organize list in ascending order\n",
    "#\n",
    "filelist2= [os.path.join('/home/saadi/mAP2/predicted', file) for file in os.listdir('/home/saadi/mAP2/predicted') if file.endswith('.txt')]\n",
    "print(filelist2)\n",
    "filelist2.sort(key=lambda f: int(filter(str.isdigit, f))) # reorganizes the list\n",
    "print('###################################################')\n",
    "print(filelist2)\n",
    "\n"
   ]
  }
 ],
 "metadata": {
  "kernelspec": {
   "display_name": "Python 2",
   "language": "python",
   "name": "python2"
  },
  "language_info": {
   "codemirror_mode": {
    "name": "ipython",
    "version": 2
   },
   "file_extension": ".py",
   "mimetype": "text/x-python",
   "name": "python",
   "nbconvert_exporter": "python",
   "pygments_lexer": "ipython2",
   "version": "2.7.12"
  }
 },
 "nbformat": 4,
 "nbformat_minor": 2
}
