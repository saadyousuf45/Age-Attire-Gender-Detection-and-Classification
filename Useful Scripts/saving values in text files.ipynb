{
 "cells": [
  {
   "cell_type": "code",
   "execution_count": null,
   "metadata": {},
   "outputs": [],
   "source": [
    "txtlist=[]  ### empty list to save tuyples\n",
    "\n",
    "xmin = box[-4]\n",
    "ymin = box[-3]\n",
    "xmax = box[-2]\n",
    "ymax = box[-1]\n",
    "\n",
    "q=box[2].astype(int)\n",
    "w=box[3].astype(int) \n",
    "e=box[4].astype(int)\n",
    "r=box[5].astype(int) \n",
    "\n",
    "\n",
    "lines = classes[int(box[0])], box[1], q, w, e, r # change as required the map file had five enteries\n",
    "print(type(lines))\n",
    "print classes[int(box[0])], box[1], q, w, e, r\n",
    "\n",
    "txtlist.extend(lines)## make a list of all the tuyples coming in\n",
    "\n",
    "txtlist.extend('\\n')\n",
    "\n",
    "\n",
    "#### the below script comes after loop ends\n",
    "thefile = open(filelist2[x], 'w') ## the text file that needs to be written into\n",
    "print('the VAlue of X =',x)\n",
    "\n",
    "for item in txtlist:\n",
    "     if item != '\\n':\n",
    "      thefile.write(\"%s \" % item)\n",
    "     else :\n",
    "      thefile.write(\"%s\" % item)\n",
    "\n",
    "\n"
   ]
  }
 ],
 "metadata": {
  "kernelspec": {
   "display_name": "Python 3",
   "language": "python",
   "name": "python3"
  },
  "language_info": {
   "codemirror_mode": {
    "name": "ipython",
    "version": 3
   },
   "file_extension": ".py",
   "mimetype": "text/x-python",
   "name": "python",
   "nbconvert_exporter": "python",
   "pygments_lexer": "ipython3",
   "version": "3.5.2"
  }
 },
 "nbformat": 4,
 "nbformat_minor": 2
}
